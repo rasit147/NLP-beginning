{
 "cells": [
  {
   "cell_type": "code",
   "execution_count": 2,
   "id": "0cd77611",
   "metadata": {},
   "outputs": [],
   "source": [
    "import pandas as pd\n",
    "import requests\n",
    "from bs4 import BeautifulSoup\n",
    "from textblob import TextBlob\n",
    "import nltk\n",
    "import re\n",
    "import openpyxl"
   ]
  },
  {
   "cell_type": "code",
   "execution_count": 12,
   "id": "45572603",
   "metadata": {},
   "outputs": [],
   "source": [
    "\n",
    "\n",
    "# Step 1: Read input file\n",
    "input_df = pd.read_excel('Input.xlsx')\n",
    "\n",
    "# Step 2: Extract article text\n",
    "for index, row in input_df.iterrows():\n",
    "    url_id = row['URL_ID']\n",
    "    url = row['URL']\n",
    "    \n",
    "    response = requests.get(url)\n",
    "    soup = BeautifulSoup(response.content, 'html.parser')\n",
    "    \n",
    "    # Assuming the title is in a <h1> tag and the article text is in <p> tags\n",
    "    title = soup.find('h1').get_text()\n",
    "    paragraphs = soup.find_all('p')\n",
    "    article_text = ' '.join([p.get_text() for p in paragraphs])\n",
    "    \n",
    "    # Save to file\n",
    "    with open(f'{url_id}.txt', 'w', encoding='utf-8') as file:\n",
    "        file.write(title + '\\n' + article_text)\n"
   ]
  },
  {
   "cell_type": "code",
   "execution_count": 14,
   "id": "dcf6be20",
   "metadata": {},
   "outputs": [
    {
     "name": "stdout",
     "output_type": "stream",
     "text": [
      "{'word_count': 994, 'positive_score': 34, 'negative_score': 8, 'polarity_score': 0.6190476043083905, 'subjectivity_score': 0.04225352108425199}\n"
     ]
    }
   ],
   "source": [
    "\n",
    "\n",
    "# Load positive and negative words list\n",
    "positive_words = set(open('positive-words.txt').read().split())\n",
    "negative_words = set(open('negative-words.txt').read().split())\n",
    "\n",
    "def analyze_text(file_path):\n",
    "    with open(file_path, 'r', encoding='utf-8') as file:\n",
    "        text = file.read()\n",
    "        \n",
    "    # Compute WORD COUNT\n",
    "    words = re.findall(r'\\w+', text)\n",
    "    word_count = len(words)\n",
    "    \n",
    "    # Compute POSITIVE and NEGATIVE SCORE\n",
    "    positive_score = sum(1 for word in words if word in positive_words)\n",
    "    negative_score = sum(1 for word in words if word in negative_words)\n",
    "    \n",
    "    # Compute POLARITY and SUBJECTIVITY SCORE\n",
    "    polarity_score = (positive_score - negative_score) / ((positive_score + negative_score) + 0.000001)\n",
    "    subjectivity_score = (positive_score + negative_score) / (word_count + 0.000001)\n",
    "    \n",
    "    # Compute other variables...\n",
    "    \n",
    "    return {\n",
    "        'word_count': word_count,\n",
    "        'positive_score': positive_score,\n",
    "        'negative_score': negative_score,\n",
    "        'polarity_score': polarity_score,\n",
    "        'subjectivity_score': subjectivity_score,\n",
    "        # Add other variables here\n",
    "    }\n",
    "\n",
    "# Example usage\n",
    "result = analyze_text('bctech2011.txt')\n",
    "print(result)\n"
   ]
  },
  {
   "cell_type": "code",
   "execution_count": null,
   "id": "393ff274",
   "metadata": {},
   "outputs": [],
   "source": []
  }
 ],
 "metadata": {
  "kernelspec": {
   "display_name": "Python 3 (ipykernel)",
   "language": "python",
   "name": "python3"
  },
  "language_info": {
   "codemirror_mode": {
    "name": "ipython",
    "version": 3
   },
   "file_extension": ".py",
   "mimetype": "text/x-python",
   "name": "python",
   "nbconvert_exporter": "python",
   "pygments_lexer": "ipython3",
   "version": "3.9.12"
  }
 },
 "nbformat": 4,
 "nbformat_minor": 5
}
