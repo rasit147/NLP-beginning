{
 "cells": [
  {
   "cell_type": "code",
   "execution_count": 2,
   "id": "afea114e",
   "metadata": {},
   "outputs": [],
   "source": [
    "import pandas as pd\n",
    "import requests\n",
    "from bs4 import BeautifulSoup\n",
    "from textblob import TextBlob\n",
    "import nltk\n",
    "import re\n",
    "import openpyxl"
   ]
  },
  {
   "cell_type": "code",
   "execution_count": 3,
   "id": "65ee2f15",
   "metadata": {},
   "outputs": [],
   "source": [
    "from concurrent.futures import ThreadPoolExecutor\n",
    "import os\n",
    "\n",
    "# Load the input file\n",
    "df = pd.read_excel('Input.xlsx')\n",
    "\n",
    "urls = df['URL'].tolist()\n",
    "url_ids = df['URL_ID'].tolist()\n",
    "\n",
    "# Function to extract text from a URL\n",
    "def extract_text(url, url_id):\n",
    "    try:\n",
    "        response = requests.get(url)\n",
    "        soup = BeautifulSoup(response.content, 'html.parser')\n",
    "\n",
    "        # Extract the article title and text\n",
    "        title = soup.find('h1').get_text() if soup.find('h1') else 'No Title'\n",
    "        paragraphs = soup.find_all('p')\n",
    "        article_text = ' '.join([para.get_text() for para in paragraphs])\n",
    "\n",
    "        # Save to a text file\n",
    "        with open(f'articles/{url_id}.txt', 'w', encoding='utf-8') as file:\n",
    "            file.write(title + '\\n' + article_text)\n",
    "\n",
    "    except Exception as e:\n",
    "        print(f\"Error extracting {url}: {e}\")\n",
    "\n",
    "# Create a directory to save the articles\n",
    "if not os.path.exists('articles'):\n",
    "    os.makedirs('articles')\n",
    "\n",
    "# Use ThreadPoolExecutor to speed up the process\n",
    "with ThreadPoolExecutor(max_workers=10) as executor:\n",
    "    executor.map(lambda p: extract_text(*p), zip(urls, url_ids))\n"
   ]
  },
  {
   "cell_type": "code",
   "execution_count": 5,
   "id": "a1badc74",
   "metadata": {},
   "outputs": [
    {
     "name": "stderr",
     "output_type": "stream",
     "text": [
      "[nltk_data] Downloading package punkt to C:\\Users\\Md\n",
      "[nltk_data]     Rashid\\AppData\\Roaming\\nltk_data...\n",
      "[nltk_data]   Package punkt is already up-to-date!\n"
     ]
    }
   ],
   "source": [
    "from nltk.tokenize import sent_tokenize, word_tokenize\n",
    "\n",
    "nltk.download('punkt')\n",
    "\n",
    "# Load positive and negative words\n",
    "s)\n"
   ]
  },
  {
   "cell_type": "code",
   "execution_count": 9,
   "id": "eedc8e6a",
   "metadata": {},
   "outputs": [
    {
     "name": "stderr",
     "output_type": "stream",
     "text": [
      "[nltk_data] Downloading package punkt to C:\\Users\\Md\n",
      "[nltk_data]     Rashid\\AppData\\Roaming\\nltk_data...\n",
      "[nltk_data]   Package punkt is already up-to-date!\n",
      "[nltk_data] Downloading package averaged_perceptron_tagger to\n",
      "[nltk_data]     C:\\Users\\Md Rashid\\AppData\\Roaming\\nltk_data...\n",
      "[nltk_data]   Package averaged_perceptron_tagger is already up-to-\n",
      "[nltk_data]       date!\n"
     ]
    }
   ],
   "source": [
    "import re\n",
    "from textblob import TextBlob\n",
    "import nltk\n",
    "nltk.download('punkt')\n",
    "nltk.download('averaged_perceptron_tagger')\n",
    "\n",
    "positive_words = set(open('positive-words.txt').read().split())\n",
    "negative_words = set(open('negative-words.txt').read().split())\n",
    "\n",
    "def analyze_text(text):\n",
    "    words = re.findall(r'\\w+', text)\n",
    "    word_count = len(words)\n",
    "    \n",
    "    positive_score = sum(1 for word in words if word in positive_words)\n",
    "    negative_score = sum(1 for word in words if word in negative_words)\n",
    "    polarity_score = (positive_score - negative_score) / ((positive_score + negative_score) + 0.000001)\n",
    "    subjectivity_score = (positive_score + negative_score) / (word_count + 0.000001)\n",
    "    \n",
    "    sentences = nltk.sent_tokenize(text)\n",
    "    avg_sentence_length = word_count / len(sentences) if sentences else 0\n",
    "    \n",
    "    def syllables_per_word(word):\n",
    "        return len([char for char in word if char in 'aeiouAEIOU'])\n",
    "    \n",
    "    syllable_counts = [syllables_per_word(word) for word in words]\n",
    "    complex_words_count = sum(1 for count in syllable_counts if count > 2)\n",
    "    percentage_of_complex_words = complex_words_count / word_count if word_count else 0\n",
    "    fog_index = 0.4 * (avg_sentence_length + percentage_of_complex_words)\n",
    "    \n",
    "    personal_pronouns = len(re.findall(r'\\b(I|we|my|ours|us)\\b', text, re.I))\n",
    "    avg_word_length = sum(len(word) for word in words) / word_count if word_count else 0\n",
    "    \n",
    "    return {\n",
    "        'word_count': word_count,\n",
    "        'positive_score': positive_score,\n",
    "        'negative_score': negative_score,\n",
    "        'polarity_score': polarity_score,\n",
    "        'subjectivity_score': subjectivity_score,\n",
    "        'avg_sentence_length': avg_sentence_length,\n",
    "        'percentage_of_complex_words': percentage_of_complex_words,\n",
    "        'fog_index': fog_index,\n",
    "        'complex_word_count': complex_words_count,\n",
    "        'syllables_per_word': sum(syllable_counts) / word_count if word_count else 0,\n",
    "        'personal_pronouns': personal_pronouns,\n",
    "        'avg_word_length': avg_word_length\n",
    "    }\n",
    "\n",
    "# Example usage\n",
    "\n",
    "\n",
    "\n"
   ]
  },
  {
   "cell_type": "code",
   "execution_count": 10,
   "id": "c58aaacb",
   "metadata": {},
   "outputs": [
    {
     "name": "stderr",
     "output_type": "stream",
     "text": [
      "C:\\Users\\Md Rashid\\AppData\\Local\\Temp\\ipykernel_9468\\3809646539.py:37: UserWarning: Pandas requires version '3.0.5' or newer of 'xlsxwriter' (version '3.0.3' currently installed).\n",
      "  output_df.to_excel('Output_Data_Structure.xlsx', index=False)\n"
     ]
    }
   ],
   "source": [
    "results = []\n",
    "\n",
    "for url_id in url_ids:\n",
    "    try:\n",
    "        with open(f'articles/{url_id}.txt', 'r', encoding='latin-1') as file:\n",
    "            text = file.read()\n",
    "\n",
    "        pos_score = positive_score(text)\n",
    "        neg_score = negative_score(text)\n",
    "        polarity = polarity_score(text)\n",
    "        subjectivity = subjectivity_score(text)\n",
    "        avg_sent_len = avg_sentence_length(text)\n",
    "        percent_complex_words = percentage_complex_words(text)\n",
    "        fog_idx = fog_index(text)\n",
    "        avg_words_per_sentence = avg_number_of_words_per_sentence(text)\n",
    "        complex_word_cnt = complex_word_count(text)\n",
    "        word_cnt = word_count(text)\n",
    "        syll_per_word = syllable_per_word(text)\n",
    "        personal_pronoun_cnt = personal_pronouns(text)\n",
    "        avg_word_len = avg_word_length(text)\n",
    "\n",
    "        results.append([url_id, pos_score, neg_score, polarity, subjectivity, avg_sent_len,\n",
    "                        percent_complex_words, fog_idx, avg_words_per_sentence,\n",
    "                        complex_word_cnt, word_cnt, syll_per_word, personal_pronoun_cnt,\n",
    "                        avg_word_len])\n",
    "    except Exception as e:\n",
    "        print(f\"Error processing {url_id}: {e}\")\n",
    "\n",
    "output_df = pd.DataFrame(results, columns=[\n",
    "    'URL_ID', 'POSITIVE SCORE', 'NEGATIVE SCORE', 'POLARITY SCORE', \n",
    "    'SUBJECTIVITY SCORE', 'AVG SENTENCE LENGTH', \n",
    "    'PERCENTAGE OF COMPLEX WORDS', 'FOG INDEX', \n",
    "    'AVG NUMBER OF WORDS PER SENTENCE', 'COMPLEX WORD COUNT', \n",
    "    'WORD COUNT', 'SYLLABLE PER WORD', 'PERSONAL PRONOUNS', 'AVG WORD LENGTH'\n",
    "])\n",
    "\n",
    "output_df.to_excel('Output_Data_Structure.xlsx', index=False)\n"
   ]
  },
  {
   "cell_type": "code",
   "execution_count": null,
   "id": "f977190f",
   "metadata": {},
   "outputs": [],
   "source": []
  }
 ],
 "metadata": {
  "kernelspec": {
   "display_name": "Python 3 (ipykernel)",
   "language": "python",
   "name": "python3"
  },
  "language_info": {
   "codemirror_mode": {
    "name": "ipython",
    "version": 3
   },
   "file_extension": ".py",
   "mimetype": "text/x-python",
   "name": "python",
   "nbconvert_exporter": "python",
   "pygments_lexer": "ipython3",
   "version": "3.9.12"
  }
 },
 "nbformat": 4,
 "nbformat_minor": 5
}
